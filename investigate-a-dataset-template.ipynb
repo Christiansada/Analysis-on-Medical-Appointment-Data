{
 "cells": [
  {
   "cell_type": "markdown",
   "metadata": {},
   "source": [
    "# Project: Investigate a Dataset (No Shows Medical Appointment)\n",
    "\n",
    " \n",
    "\n",
    "## Table of Contents\n",
    "<ul>\n",
    "<li><a href=\"#intro\">Introduction</a></li>\n",
    "<li><a href=\"#wrangling\">Data Wrangling</a></li>\n",
    "<li><a href=\"#eda\">Exploratory Data Analysis</a></li>\n",
    "<li><a href=\"#conclusions\">Conclusions</a></li>\n",
    "</ul>"
   ]
  },
  {
   "cell_type": "markdown",
   "metadata": {},
   "source": [
    "<a id='intro'></a>\n",
    "## Introduction\n",
    "\n",
    "> In this assignment, I looked at a dataset of appointment records for public hospitals in Brazil. The information includes certain patient characteristics as well as whether or not the patients showed up for their appointments. The goal of the study is to uncover trends that influence whether or not patients show up for visits.\n",
    "\n",
    ">Here's where you can find the original challenge description and data set: https://www.kaggle.com/joniarroba/noshowappointments/home"
   ]
  },
  {
   "cell_type": "markdown",
   "metadata": {},
   "source": [
    "### we will use the data to answer the following questions:\n",
    "- What are the behaviorial patterns of patient of the same age group as regards showing for appointments?\n",
    "- How do patient attend appointments according to the days of the week?\n",
    "- Does having a scholarship affect whether a patient shows for his appointments or not?\n",
    "- Does having a Diabetes affect whether a patient shows up for his/her appointments or not?\n",
    "- Does having gender affect whether a patient shows up for his appointments or not?"
   ]
  },
  {
   "cell_type": "code",
   "execution_count": 34,
   "metadata": {},
   "outputs": [],
   "source": [
    "import numpy as np\n",
    "import pandas as pd\n",
    "import matplotlib.pyplot as plt\n",
    "import seaborn as sns\n",
    "%matplotlib inline"
   ]
  },
  {
   "cell_type": "markdown",
   "metadata": {},
   "source": [
    "<a id='wrangling'></a>\n",
    "## Data Wrangling\n",
    "\n",
    "\n",
    "### General Properties"
   ]
  },
  {
   "cell_type": "code",
   "execution_count": 35,
   "metadata": {},
   "outputs": [],
   "source": [
    "df = pd.read_csv(\"/Users/BENEL ENERGY/Downloads/noshowappointments-kagglev2-may-2016.csv\")"
   ]
  },
  {
   "cell_type": "code",
   "execution_count": 15,
   "metadata": {},
   "outputs": [
    {
     "data": {
      "text/html": [
       "<div>\n",
       "<style scoped>\n",
       "    .dataframe tbody tr th:only-of-type {\n",
       "        vertical-align: middle;\n",
       "    }\n",
       "\n",
       "    .dataframe tbody tr th {\n",
       "        vertical-align: top;\n",
       "    }\n",
       "\n",
       "    .dataframe thead th {\n",
       "        text-align: right;\n",
       "    }\n",
       "</style>\n",
       "<table border=\"1\" class=\"dataframe\">\n",
       "  <thead>\n",
       "    <tr style=\"text-align: right;\">\n",
       "      <th></th>\n",
       "      <th>PatientId</th>\n",
       "      <th>AppointmentID</th>\n",
       "      <th>Gender</th>\n",
       "      <th>ScheduledDay</th>\n",
       "      <th>AppointmentDay</th>\n",
       "      <th>Age</th>\n",
       "      <th>Neighbourhood</th>\n",
       "      <th>Scholarship</th>\n",
       "      <th>Hipertension</th>\n",
       "      <th>Diabetes</th>\n",
       "      <th>Alcoholism</th>\n",
       "      <th>Handcap</th>\n",
       "      <th>SMS_received</th>\n",
       "      <th>No-show</th>\n",
       "    </tr>\n",
       "  </thead>\n",
       "  <tbody>\n",
       "    <tr>\n",
       "      <th>0</th>\n",
       "      <td>2.987250e+13</td>\n",
       "      <td>5642903</td>\n",
       "      <td>F</td>\n",
       "      <td>2016-04-29T18:38:08Z</td>\n",
       "      <td>2016-04-29T00:00:00Z</td>\n",
       "      <td>62</td>\n",
       "      <td>JARDIM DA PENHA</td>\n",
       "      <td>0</td>\n",
       "      <td>1</td>\n",
       "      <td>0</td>\n",
       "      <td>0</td>\n",
       "      <td>0</td>\n",
       "      <td>0</td>\n",
       "      <td>No</td>\n",
       "    </tr>\n",
       "    <tr>\n",
       "      <th>1</th>\n",
       "      <td>5.589978e+14</td>\n",
       "      <td>5642503</td>\n",
       "      <td>M</td>\n",
       "      <td>2016-04-29T16:08:27Z</td>\n",
       "      <td>2016-04-29T00:00:00Z</td>\n",
       "      <td>56</td>\n",
       "      <td>JARDIM DA PENHA</td>\n",
       "      <td>0</td>\n",
       "      <td>0</td>\n",
       "      <td>0</td>\n",
       "      <td>0</td>\n",
       "      <td>0</td>\n",
       "      <td>0</td>\n",
       "      <td>No</td>\n",
       "    </tr>\n",
       "    <tr>\n",
       "      <th>2</th>\n",
       "      <td>4.262962e+12</td>\n",
       "      <td>5642549</td>\n",
       "      <td>F</td>\n",
       "      <td>2016-04-29T16:19:04Z</td>\n",
       "      <td>2016-04-29T00:00:00Z</td>\n",
       "      <td>62</td>\n",
       "      <td>MATA DA PRAIA</td>\n",
       "      <td>0</td>\n",
       "      <td>0</td>\n",
       "      <td>0</td>\n",
       "      <td>0</td>\n",
       "      <td>0</td>\n",
       "      <td>0</td>\n",
       "      <td>No</td>\n",
       "    </tr>\n",
       "  </tbody>\n",
       "</table>\n",
       "</div>"
      ],
      "text/plain": [
       "      PatientId  AppointmentID Gender          ScheduledDay  \\\n",
       "0  2.987250e+13        5642903      F  2016-04-29T18:38:08Z   \n",
       "1  5.589978e+14        5642503      M  2016-04-29T16:08:27Z   \n",
       "2  4.262962e+12        5642549      F  2016-04-29T16:19:04Z   \n",
       "\n",
       "         AppointmentDay  Age    Neighbourhood  Scholarship  Hipertension  \\\n",
       "0  2016-04-29T00:00:00Z   62  JARDIM DA PENHA            0             1   \n",
       "1  2016-04-29T00:00:00Z   56  JARDIM DA PENHA            0             0   \n",
       "2  2016-04-29T00:00:00Z   62    MATA DA PRAIA            0             0   \n",
       "\n",
       "   Diabetes  Alcoholism  Handcap  SMS_received No-show  \n",
       "0         0           0        0             0      No  \n",
       "1         0           0        0             0      No  \n",
       "2         0           0        0             0      No  "
      ]
     },
     "execution_count": 15,
     "metadata": {},
     "output_type": "execute_result"
    }
   ],
   "source": [
    "#load data\n",
    "df.head(3)"
   ]
  },
  {
   "cell_type": "code",
   "execution_count": 16,
   "metadata": {},
   "outputs": [
    {
     "data": {
      "text/plain": [
       "(110527, 14)"
      ]
     },
     "execution_count": 16,
     "metadata": {},
     "output_type": "execute_result"
    }
   ],
   "source": [
    "# Inspect the number of rows and columns in the dataframe\n",
    "df.shape"
   ]
  },
  {
   "cell_type": "code",
   "execution_count": 17,
   "metadata": {
    "scrolled": true
   },
   "outputs": [
    {
     "data": {
      "text/plain": [
       "PatientId         0\n",
       "AppointmentID     0\n",
       "Gender            0\n",
       "ScheduledDay      0\n",
       "AppointmentDay    0\n",
       "Age               0\n",
       "Neighbourhood     0\n",
       "Scholarship       0\n",
       "Hipertension      0\n",
       "Diabetes          0\n",
       "Alcoholism        0\n",
       "Handcap           0\n",
       "SMS_received      0\n",
       "No-show           0\n",
       "dtype: int64"
      ]
     },
     "execution_count": 17,
     "metadata": {},
     "output_type": "execute_result"
    }
   ],
   "source": [
    "# Inspect for null values\n",
    "df.isnull().sum()"
   ]
  },
  {
   "cell_type": "code",
   "execution_count": 18,
   "metadata": {},
   "outputs": [
    {
     "data": {
      "text/plain": [
       "0"
      ]
     },
     "execution_count": 18,
     "metadata": {},
     "output_type": "execute_result"
    }
   ],
   "source": [
    "# Inspect for duplicated values\n",
    "df.duplicated().sum()"
   ]
  },
  {
   "cell_type": "code",
   "execution_count": 19,
   "metadata": {},
   "outputs": [
    {
     "data": {
      "text/plain": [
       "Index(['PatientId', 'AppointmentID', 'Gender', 'ScheduledDay',\n",
       "       'AppointmentDay', 'Age', 'Neighbourhood', 'Scholarship', 'Hipertension',\n",
       "       'Diabetes', 'Alcoholism', 'Handcap', 'SMS_received', 'No-show'],\n",
       "      dtype='object')"
      ]
     },
     "execution_count": 19,
     "metadata": {},
     "output_type": "execute_result"
    }
   ],
   "source": [
    "# Inspect columns naming convention \n",
    "df.columns"
   ]
  },
  {
   "cell_type": "code",
   "execution_count": 20,
   "metadata": {},
   "outputs": [
    {
     "name": "stdout",
     "output_type": "stream",
     "text": [
      "<class 'pandas.core.frame.DataFrame'>\n",
      "RangeIndex: 110527 entries, 0 to 110526\n",
      "Data columns (total 14 columns):\n",
      " #   Column          Non-Null Count   Dtype  \n",
      "---  ------          --------------   -----  \n",
      " 0   PatientId       110527 non-null  float64\n",
      " 1   AppointmentID   110527 non-null  int64  \n",
      " 2   Gender          110527 non-null  object \n",
      " 3   ScheduledDay    110527 non-null  object \n",
      " 4   AppointmentDay  110527 non-null  object \n",
      " 5   Age             110527 non-null  int64  \n",
      " 6   Neighbourhood   110527 non-null  object \n",
      " 7   Scholarship     110527 non-null  int64  \n",
      " 8   Hipertension    110527 non-null  int64  \n",
      " 9   Diabetes        110527 non-null  int64  \n",
      " 10  Alcoholism      110527 non-null  int64  \n",
      " 11  Handcap         110527 non-null  int64  \n",
      " 12  SMS_received    110527 non-null  int64  \n",
      " 13  No-show         110527 non-null  object \n",
      "dtypes: float64(1), int64(8), object(5)\n",
      "memory usage: 11.8+ MB\n"
     ]
    }
   ],
   "source": [
    "# Inspect datatypes\n",
    "df.info()"
   ]
  },
  {
   "cell_type": "code",
   "execution_count": 21,
   "metadata": {},
   "outputs": [
    {
     "data": {
      "text/html": [
       "<div>\n",
       "<style scoped>\n",
       "    .dataframe tbody tr th:only-of-type {\n",
       "        vertical-align: middle;\n",
       "    }\n",
       "\n",
       "    .dataframe tbody tr th {\n",
       "        vertical-align: top;\n",
       "    }\n",
       "\n",
       "    .dataframe thead th {\n",
       "        text-align: right;\n",
       "    }\n",
       "</style>\n",
       "<table border=\"1\" class=\"dataframe\">\n",
       "  <thead>\n",
       "    <tr style=\"text-align: right;\">\n",
       "      <th></th>\n",
       "      <th>PatientId</th>\n",
       "      <th>AppointmentID</th>\n",
       "      <th>Age</th>\n",
       "      <th>Scholarship</th>\n",
       "      <th>Hipertension</th>\n",
       "      <th>Diabetes</th>\n",
       "      <th>Alcoholism</th>\n",
       "      <th>Handcap</th>\n",
       "      <th>SMS_received</th>\n",
       "    </tr>\n",
       "  </thead>\n",
       "  <tbody>\n",
       "    <tr>\n",
       "      <th>count</th>\n",
       "      <td>1.105270e+05</td>\n",
       "      <td>1.105270e+05</td>\n",
       "      <td>110527.000000</td>\n",
       "      <td>110527.000000</td>\n",
       "      <td>110527.000000</td>\n",
       "      <td>110527.000000</td>\n",
       "      <td>110527.000000</td>\n",
       "      <td>110527.000000</td>\n",
       "      <td>110527.000000</td>\n",
       "    </tr>\n",
       "    <tr>\n",
       "      <th>mean</th>\n",
       "      <td>1.474963e+14</td>\n",
       "      <td>5.675305e+06</td>\n",
       "      <td>37.088874</td>\n",
       "      <td>0.098266</td>\n",
       "      <td>0.197246</td>\n",
       "      <td>0.071865</td>\n",
       "      <td>0.030400</td>\n",
       "      <td>0.022248</td>\n",
       "      <td>0.321026</td>\n",
       "    </tr>\n",
       "    <tr>\n",
       "      <th>std</th>\n",
       "      <td>2.560949e+14</td>\n",
       "      <td>7.129575e+04</td>\n",
       "      <td>23.110205</td>\n",
       "      <td>0.297675</td>\n",
       "      <td>0.397921</td>\n",
       "      <td>0.258265</td>\n",
       "      <td>0.171686</td>\n",
       "      <td>0.161543</td>\n",
       "      <td>0.466873</td>\n",
       "    </tr>\n",
       "    <tr>\n",
       "      <th>min</th>\n",
       "      <td>3.921784e+04</td>\n",
       "      <td>5.030230e+06</td>\n",
       "      <td>-1.000000</td>\n",
       "      <td>0.000000</td>\n",
       "      <td>0.000000</td>\n",
       "      <td>0.000000</td>\n",
       "      <td>0.000000</td>\n",
       "      <td>0.000000</td>\n",
       "      <td>0.000000</td>\n",
       "    </tr>\n",
       "    <tr>\n",
       "      <th>25%</th>\n",
       "      <td>4.172614e+12</td>\n",
       "      <td>5.640286e+06</td>\n",
       "      <td>18.000000</td>\n",
       "      <td>0.000000</td>\n",
       "      <td>0.000000</td>\n",
       "      <td>0.000000</td>\n",
       "      <td>0.000000</td>\n",
       "      <td>0.000000</td>\n",
       "      <td>0.000000</td>\n",
       "    </tr>\n",
       "    <tr>\n",
       "      <th>50%</th>\n",
       "      <td>3.173184e+13</td>\n",
       "      <td>5.680573e+06</td>\n",
       "      <td>37.000000</td>\n",
       "      <td>0.000000</td>\n",
       "      <td>0.000000</td>\n",
       "      <td>0.000000</td>\n",
       "      <td>0.000000</td>\n",
       "      <td>0.000000</td>\n",
       "      <td>0.000000</td>\n",
       "    </tr>\n",
       "    <tr>\n",
       "      <th>75%</th>\n",
       "      <td>9.439172e+13</td>\n",
       "      <td>5.725524e+06</td>\n",
       "      <td>55.000000</td>\n",
       "      <td>0.000000</td>\n",
       "      <td>0.000000</td>\n",
       "      <td>0.000000</td>\n",
       "      <td>0.000000</td>\n",
       "      <td>0.000000</td>\n",
       "      <td>1.000000</td>\n",
       "    </tr>\n",
       "    <tr>\n",
       "      <th>max</th>\n",
       "      <td>9.999816e+14</td>\n",
       "      <td>5.790484e+06</td>\n",
       "      <td>115.000000</td>\n",
       "      <td>1.000000</td>\n",
       "      <td>1.000000</td>\n",
       "      <td>1.000000</td>\n",
       "      <td>1.000000</td>\n",
       "      <td>4.000000</td>\n",
       "      <td>1.000000</td>\n",
       "    </tr>\n",
       "  </tbody>\n",
       "</table>\n",
       "</div>"
      ],
      "text/plain": [
       "          PatientId  AppointmentID            Age    Scholarship  \\\n",
       "count  1.105270e+05   1.105270e+05  110527.000000  110527.000000   \n",
       "mean   1.474963e+14   5.675305e+06      37.088874       0.098266   \n",
       "std    2.560949e+14   7.129575e+04      23.110205       0.297675   \n",
       "min    3.921784e+04   5.030230e+06      -1.000000       0.000000   \n",
       "25%    4.172614e+12   5.640286e+06      18.000000       0.000000   \n",
       "50%    3.173184e+13   5.680573e+06      37.000000       0.000000   \n",
       "75%    9.439172e+13   5.725524e+06      55.000000       0.000000   \n",
       "max    9.999816e+14   5.790484e+06     115.000000       1.000000   \n",
       "\n",
       "        Hipertension       Diabetes     Alcoholism        Handcap  \\\n",
       "count  110527.000000  110527.000000  110527.000000  110527.000000   \n",
       "mean        0.197246       0.071865       0.030400       0.022248   \n",
       "std         0.397921       0.258265       0.171686       0.161543   \n",
       "min         0.000000       0.000000       0.000000       0.000000   \n",
       "25%         0.000000       0.000000       0.000000       0.000000   \n",
       "50%         0.000000       0.000000       0.000000       0.000000   \n",
       "75%         0.000000       0.000000       0.000000       0.000000   \n",
       "max         1.000000       1.000000       1.000000       4.000000   \n",
       "\n",
       "        SMS_received  \n",
       "count  110527.000000  \n",
       "mean        0.321026  \n",
       "std         0.466873  \n",
       "min         0.000000  \n",
       "25%         0.000000  \n",
       "50%         0.000000  \n",
       "75%         1.000000  \n",
       "max         1.000000  "
      ]
     },
     "execution_count": 21,
     "metadata": {},
     "output_type": "execute_result"
    }
   ],
   "source": [
    "df.describe()"
   ]
  },
  {
   "cell_type": "markdown",
   "metadata": {},
   "source": [
    "### A few observations\n",
    "\n",
    "- The data has 110527 rows and 14 columns\n",
    "- No null values\n",
    "- No duplicated values \n",
    "- Columns naming conventions are not uniformed\n",
    "- The ScheduledDay and AppointmentDay both have the wrong datatype (strings) instead of datetime\n",
    "- PatientId should be an integer datatype and not a float \n",
    "- On Inspection, It was discovered that the column Age had negative values which is an outliers \n",
    "- Handcap columns were seen to have values that were not 0 and 1 which is also an outliers"
   ]
  },
  {
   "cell_type": "markdown",
   "metadata": {},
   "source": [
    "### Data Cleaning "
   ]
  },
  {
   "cell_type": "code",
   "execution_count": 22,
   "metadata": {},
   "outputs": [],
   "source": [
    "# After discussing the structure of the data and any problems that need to be\n",
    "#   cleaned, perform those cleaning steps in the second part of this section."
   ]
  },
  {
   "cell_type": "code",
   "execution_count": 23,
   "metadata": {},
   "outputs": [
    {
     "name": "stdout",
     "output_type": "stream",
     "text": [
      "<class 'pandas.core.frame.DataFrame'>\n",
      "RangeIndex: 110527 entries, 0 to 110526\n",
      "Data columns (total 14 columns):\n",
      " #   Column          Non-Null Count   Dtype  \n",
      "---  ------          --------------   -----  \n",
      " 0   PatientId       110527 non-null  float64\n",
      " 1   AppointmentID   110527 non-null  int64  \n",
      " 2   Gender          110527 non-null  object \n",
      " 3   ScheduledDay    110527 non-null  object \n",
      " 4   AppointmentDay  110527 non-null  object \n",
      " 5   Age             110527 non-null  int64  \n",
      " 6   Neighbourhood   110527 non-null  object \n",
      " 7   Scholarship     110527 non-null  int64  \n",
      " 8   Hipertension    110527 non-null  int64  \n",
      " 9   Diabetes        110527 non-null  int64  \n",
      " 10  Alcoholism      110527 non-null  int64  \n",
      " 11  Handcap         110527 non-null  int64  \n",
      " 12  SMS_received    110527 non-null  int64  \n",
      " 13  No-show         110527 non-null  object \n",
      "dtypes: float64(1), int64(8), object(5)\n",
      "memory usage: 11.8+ MB\n"
     ]
    }
   ],
   "source": [
    "df.info()"
   ]
  },
  {
   "cell_type": "markdown",
   "metadata": {},
   "source": [
    ">  Converting the **string** datatype in ScheduledDay and AppointmentDay to **datetime** datatype"
   ]
  },
  {
   "cell_type": "code",
   "execution_count": 36,
   "metadata": {},
   "outputs": [],
   "source": [
    "# create function to convert string in ScheduledDay and AppointmentDay to datetime \n",
    "\n",
    "import dateutil.parser as dparser\n",
    "\n",
    "def datechange(data):\n",
    "    data = data.apply(lambda x: dparser.parse(x,fuzzy=True).strftime('%Y-%m-%d %H:%M:%S'))\n",
    "    data = pd.to_datetime(data, format= ('%Y-%m-%d %H:%M:%S'))\n",
    "    return data\n",
    "    \n",
    "    \n",
    "df['ScheduledDay'] = datechange(df['ScheduledDay'])\n",
    "df['AppointmentDay'] = datechange(df['AppointmentDay'])\n"
   ]
  },
  {
   "cell_type": "code",
   "execution_count": 37,
   "metadata": {},
   "outputs": [
    {
     "name": "stdout",
     "output_type": "stream",
     "text": [
      "<class 'pandas.core.frame.DataFrame'>\n",
      "RangeIndex: 110527 entries, 0 to 110526\n",
      "Data columns (total 14 columns):\n",
      " #   Column          Non-Null Count   Dtype         \n",
      "---  ------          --------------   -----         \n",
      " 0   PatientId       110527 non-null  float64       \n",
      " 1   AppointmentID   110527 non-null  int64         \n",
      " 2   Gender          110527 non-null  object        \n",
      " 3   ScheduledDay    110527 non-null  datetime64[ns]\n",
      " 4   AppointmentDay  110527 non-null  datetime64[ns]\n",
      " 5   Age             110527 non-null  int64         \n",
      " 6   Neighbourhood   110527 non-null  object        \n",
      " 7   Scholarship     110527 non-null  int64         \n",
      " 8   Hipertension    110527 non-null  int64         \n",
      " 9   Diabetes        110527 non-null  int64         \n",
      " 10  Alcoholism      110527 non-null  int64         \n",
      " 11  Handcap         110527 non-null  int64         \n",
      " 12  SMS_received    110527 non-null  int64         \n",
      " 13  No-show         110527 non-null  object        \n",
      "dtypes: datetime64[ns](2), float64(1), int64(8), object(3)\n",
      "memory usage: 11.8+ MB\n"
     ]
    }
   ],
   "source": [
    "df.info()"
   ]
  },
  {
   "cell_type": "markdown",
   "metadata": {},
   "source": [
    ">  Converting the **float** datatype in PatientId to **integer** datatype"
   ]
  },
  {
   "cell_type": "code",
   "execution_count": 38,
   "metadata": {},
   "outputs": [
    {
     "name": "stdout",
     "output_type": "stream",
     "text": [
      "There are 5 PatientId   that are not integers\n"
     ]
    },
    {
     "data": {
      "text/html": [
       "<div>\n",
       "<style scoped>\n",
       "    .dataframe tbody tr th:only-of-type {\n",
       "        vertical-align: middle;\n",
       "    }\n",
       "\n",
       "    .dataframe tbody tr th {\n",
       "        vertical-align: top;\n",
       "    }\n",
       "\n",
       "    .dataframe thead th {\n",
       "        text-align: right;\n",
       "    }\n",
       "</style>\n",
       "<table border=\"1\" class=\"dataframe\">\n",
       "  <thead>\n",
       "    <tr style=\"text-align: right;\">\n",
       "      <th></th>\n",
       "      <th>PatientId</th>\n",
       "      <th>AppointmentID</th>\n",
       "      <th>Gender</th>\n",
       "      <th>ScheduledDay</th>\n",
       "      <th>AppointmentDay</th>\n",
       "      <th>Age</th>\n",
       "      <th>Neighbourhood</th>\n",
       "      <th>Scholarship</th>\n",
       "      <th>Hipertension</th>\n",
       "      <th>Diabetes</th>\n",
       "      <th>Alcoholism</th>\n",
       "      <th>Handcap</th>\n",
       "      <th>SMS_received</th>\n",
       "      <th>No-show</th>\n",
       "    </tr>\n",
       "  </thead>\n",
       "  <tbody>\n",
       "    <tr>\n",
       "      <th>3950</th>\n",
       "      <td>93779.52927</td>\n",
       "      <td>5712759</td>\n",
       "      <td>F</td>\n",
       "      <td>2016-05-18 09:12:29</td>\n",
       "      <td>2016-05-18</td>\n",
       "      <td>33</td>\n",
       "      <td>CENTRO</td>\n",
       "      <td>0</td>\n",
       "      <td>0</td>\n",
       "      <td>0</td>\n",
       "      <td>0</td>\n",
       "      <td>0</td>\n",
       "      <td>0</td>\n",
       "      <td>No</td>\n",
       "    </tr>\n",
       "    <tr>\n",
       "      <th>73228</th>\n",
       "      <td>537615.28476</td>\n",
       "      <td>5637728</td>\n",
       "      <td>F</td>\n",
       "      <td>2016-04-29 07:19:57</td>\n",
       "      <td>2016-05-06</td>\n",
       "      <td>14</td>\n",
       "      <td>FORTE SÃO JOÃO</td>\n",
       "      <td>0</td>\n",
       "      <td>0</td>\n",
       "      <td>0</td>\n",
       "      <td>0</td>\n",
       "      <td>0</td>\n",
       "      <td>1</td>\n",
       "      <td>No</td>\n",
       "    </tr>\n",
       "    <tr>\n",
       "      <th>73303</th>\n",
       "      <td>141724.16655</td>\n",
       "      <td>5637648</td>\n",
       "      <td>M</td>\n",
       "      <td>2016-04-29 07:13:36</td>\n",
       "      <td>2016-05-02</td>\n",
       "      <td>12</td>\n",
       "      <td>FORTE SÃO JOÃO</td>\n",
       "      <td>0</td>\n",
       "      <td>0</td>\n",
       "      <td>0</td>\n",
       "      <td>0</td>\n",
       "      <td>0</td>\n",
       "      <td>0</td>\n",
       "      <td>No</td>\n",
       "    </tr>\n",
       "    <tr>\n",
       "      <th>100517</th>\n",
       "      <td>39217.84439</td>\n",
       "      <td>5751990</td>\n",
       "      <td>F</td>\n",
       "      <td>2016-05-31 10:56:41</td>\n",
       "      <td>2016-06-03</td>\n",
       "      <td>44</td>\n",
       "      <td>PRAIA DO SUÁ</td>\n",
       "      <td>0</td>\n",
       "      <td>0</td>\n",
       "      <td>0</td>\n",
       "      <td>0</td>\n",
       "      <td>0</td>\n",
       "      <td>0</td>\n",
       "      <td>No</td>\n",
       "    </tr>\n",
       "    <tr>\n",
       "      <th>105430</th>\n",
       "      <td>43741.75652</td>\n",
       "      <td>5760144</td>\n",
       "      <td>M</td>\n",
       "      <td>2016-06-01 14:22:58</td>\n",
       "      <td>2016-06-01</td>\n",
       "      <td>39</td>\n",
       "      <td>MARIA ORTIZ</td>\n",
       "      <td>0</td>\n",
       "      <td>0</td>\n",
       "      <td>1</td>\n",
       "      <td>0</td>\n",
       "      <td>0</td>\n",
       "      <td>0</td>\n",
       "      <td>No</td>\n",
       "    </tr>\n",
       "  </tbody>\n",
       "</table>\n",
       "</div>"
      ],
      "text/plain": [
       "           PatientId  AppointmentID Gender        ScheduledDay AppointmentDay  \\\n",
       "3950     93779.52927        5712759      F 2016-05-18 09:12:29     2016-05-18   \n",
       "73228   537615.28476        5637728      F 2016-04-29 07:19:57     2016-05-06   \n",
       "73303   141724.16655        5637648      M 2016-04-29 07:13:36     2016-05-02   \n",
       "100517   39217.84439        5751990      F 2016-05-31 10:56:41     2016-06-03   \n",
       "105430   43741.75652        5760144      M 2016-06-01 14:22:58     2016-06-01   \n",
       "\n",
       "        Age   Neighbourhood  Scholarship  Hipertension  Diabetes  Alcoholism  \\\n",
       "3950     33          CENTRO            0             0         0           0   \n",
       "73228    14  FORTE SÃO JOÃO            0             0         0           0   \n",
       "73303    12  FORTE SÃO JOÃO            0             0         0           0   \n",
       "100517   44    PRAIA DO SUÁ            0             0         0           0   \n",
       "105430   39     MARIA ORTIZ            0             0         1           0   \n",
       "\n",
       "        Handcap  SMS_received No-show  \n",
       "3950          0             0      No  \n",
       "73228         0             1      No  \n",
       "73303         0             0      No  \n",
       "100517        0             0      No  \n",
       "105430        0             0      No  "
      ]
     },
     "execution_count": 38,
     "metadata": {},
     "output_type": "execute_result"
    }
   ],
   "source": [
    "# Check how many PatientId are not integers\n",
    "non_int_patient_ids = df[~ df.PatientId.apply(lambda x: x.is_integer())]\n",
    "print('There are {} PatientId   that are not integers'.format(len(non_int_patient_ids)))\n",
    "non_int_patient_ids\n"
   ]
  },
  {
   "cell_type": "code",
   "execution_count": 39,
   "metadata": {},
   "outputs": [
    {
     "name": "stdout",
     "output_type": "stream",
     "text": [
      "Patient id == 93779 does not exist.\n",
      "Patient id == 537615 does not exist.\n",
      "Patient id == 141724 does not exist.\n",
      "Patient id == 39217 does not exist.\n",
      "Patient id == 43741 does not exist.\n"
     ]
    }
   ],
   "source": [
    "# Extract float PatientId from the list above\n",
    "PatientId = [93779.52927, 537615.28476, 141724.16655, 39217.84439, 43741.75652]\n",
    "    \n",
    "# Convert all float PatientId to int (by truncating the decimal part)\n",
    "# and check if such patients exist in the rest of the dataset\n",
    "for i in range(len(PatientId)):\n",
    "    PatientId[i] = int(PatientId[i])\n",
    "    if df.query('PatientId == {}'.format(PatientId[i])).empty:\n",
    "        print('Patient id == {} does not exist.'.format(PatientId[i]))\n",
    "    else:\n",
    "        print('Patient id == {} already exists.'.format(PatientId[i]))\n",
    "# Convert PatientId from float to int\n",
    "df['PatientId'] = df['PatientId'].astype('int64')\n"
   ]
  },
  {
   "cell_type": "markdown",
   "metadata": {},
   "source": [
    "> **Unify** column naming convention"
   ]
  },
  {
   "cell_type": "code",
   "execution_count": 40,
   "metadata": {},
   "outputs": [],
   "source": [
    "# Unify the column naming convention by changing case to lowercase \n",
    "# and adding underscore to compound words  \n",
    "\n",
    "df.columns = ['patient_id', 'appointment_id', 'gender', 'scheduled_date', \n",
    "              'appointment_date', 'age', 'neighbourhood', 'scholarship', 'hypertension',\n",
    "              'diabetes', 'alcoholism', 'handicap', 'sms_received', 'no_show']"
   ]
  },
  {
   "cell_type": "code",
   "execution_count": 41,
   "metadata": {},
   "outputs": [
    {
     "name": "stdout",
     "output_type": "stream",
     "text": [
      "<class 'pandas.core.frame.DataFrame'>\n",
      "RangeIndex: 110527 entries, 0 to 110526\n",
      "Data columns (total 14 columns):\n",
      " #   Column            Non-Null Count   Dtype         \n",
      "---  ------            --------------   -----         \n",
      " 0   patient_id        110527 non-null  int64         \n",
      " 1   appointment_id    110527 non-null  int64         \n",
      " 2   gender            110527 non-null  object        \n",
      " 3   scheduled_date    110527 non-null  datetime64[ns]\n",
      " 4   appointment_date  110527 non-null  datetime64[ns]\n",
      " 5   age               110527 non-null  int64         \n",
      " 6   neighbourhood     110527 non-null  object        \n",
      " 7   scholarship       110527 non-null  int64         \n",
      " 8   hypertension      110527 non-null  int64         \n",
      " 9   diabetes          110527 non-null  int64         \n",
      " 10  alcoholism        110527 non-null  int64         \n",
      " 11  handicap          110527 non-null  int64         \n",
      " 12  sms_received      110527 non-null  int64         \n",
      " 13  no_show           110527 non-null  object        \n",
      "dtypes: datetime64[ns](2), int64(9), object(3)\n",
      "memory usage: 11.8+ MB\n"
     ]
    }
   ],
   "source": [
    "# Now to Inspect the changes made on the datatypes and column naming convention\n",
    "df.info()"
   ]
  },
  {
   "cell_type": "markdown",
   "metadata": {},
   "source": [
    "> Remove **outliers** from Age column (negative values)"
   ]
  },
  {
   "cell_type": "code",
   "execution_count": 42,
   "metadata": {},
   "outputs": [],
   "source": [
    "# Removing the negative values by using age column values > 0\n",
    "df = df.query(\"age > 0\")"
   ]
  },
  {
   "cell_type": "markdown",
   "metadata": {},
   "source": [
    "> Remove **outliers** from handicap column (values not 0 or 1)"
   ]
  },
  {
   "cell_type": "code",
   "execution_count": 43,
   "metadata": {},
   "outputs": [],
   "source": [
    "# Removing the handicap outliers by selecting handicap values that are just 0 and 1\n",
    "df = df.query(\"handicap == 0 | handicap == 1\")"
   ]
  },
  {
   "cell_type": "code",
   "execution_count": 44,
   "metadata": {},
   "outputs": [
    {
     "data": {
      "text/html": [
       "<div>\n",
       "<style scoped>\n",
       "    .dataframe tbody tr th:only-of-type {\n",
       "        vertical-align: middle;\n",
       "    }\n",
       "\n",
       "    .dataframe tbody tr th {\n",
       "        vertical-align: top;\n",
       "    }\n",
       "\n",
       "    .dataframe thead th {\n",
       "        text-align: right;\n",
       "    }\n",
       "</style>\n",
       "<table border=\"1\" class=\"dataframe\">\n",
       "  <thead>\n",
       "    <tr style=\"text-align: right;\">\n",
       "      <th></th>\n",
       "      <th>patient_id</th>\n",
       "      <th>appointment_id</th>\n",
       "      <th>age</th>\n",
       "      <th>scholarship</th>\n",
       "      <th>hypertension</th>\n",
       "      <th>diabetes</th>\n",
       "      <th>alcoholism</th>\n",
       "      <th>handicap</th>\n",
       "      <th>sms_received</th>\n",
       "    </tr>\n",
       "  </thead>\n",
       "  <tbody>\n",
       "    <tr>\n",
       "      <th>count</th>\n",
       "      <td>1.067880e+05</td>\n",
       "      <td>1.067880e+05</td>\n",
       "      <td>106788.000000</td>\n",
       "      <td>106788.000000</td>\n",
       "      <td>106788.000000</td>\n",
       "      <td>106788.000000</td>\n",
       "      <td>106788.000000</td>\n",
       "      <td>106788.000000</td>\n",
       "      <td>106788.000000</td>\n",
       "    </tr>\n",
       "    <tr>\n",
       "      <th>mean</th>\n",
       "      <td>1.473131e+14</td>\n",
       "      <td>5.675428e+06</td>\n",
       "      <td>38.299294</td>\n",
       "      <td>0.101051</td>\n",
       "      <td>0.203356</td>\n",
       "      <td>0.073978</td>\n",
       "      <td>0.031389</td>\n",
       "      <td>0.019113</td>\n",
       "      <td>0.323426</td>\n",
       "    </tr>\n",
       "    <tr>\n",
       "      <th>std</th>\n",
       "      <td>2.558722e+14</td>\n",
       "      <td>7.133632e+04</td>\n",
       "      <td>22.453253</td>\n",
       "      <td>0.301397</td>\n",
       "      <td>0.402497</td>\n",
       "      <td>0.261737</td>\n",
       "      <td>0.174368</td>\n",
       "      <td>0.136922</td>\n",
       "      <td>0.467786</td>\n",
       "    </tr>\n",
       "    <tr>\n",
       "      <th>min</th>\n",
       "      <td>3.921700e+04</td>\n",
       "      <td>5.030230e+06</td>\n",
       "      <td>1.000000</td>\n",
       "      <td>0.000000</td>\n",
       "      <td>0.000000</td>\n",
       "      <td>0.000000</td>\n",
       "      <td>0.000000</td>\n",
       "      <td>0.000000</td>\n",
       "      <td>0.000000</td>\n",
       "    </tr>\n",
       "    <tr>\n",
       "      <th>25%</th>\n",
       "      <td>4.175523e+12</td>\n",
       "      <td>5.640484e+06</td>\n",
       "      <td>19.000000</td>\n",
       "      <td>0.000000</td>\n",
       "      <td>0.000000</td>\n",
       "      <td>0.000000</td>\n",
       "      <td>0.000000</td>\n",
       "      <td>0.000000</td>\n",
       "      <td>0.000000</td>\n",
       "    </tr>\n",
       "    <tr>\n",
       "      <th>50%</th>\n",
       "      <td>3.173700e+13</td>\n",
       "      <td>5.680740e+06</td>\n",
       "      <td>38.000000</td>\n",
       "      <td>0.000000</td>\n",
       "      <td>0.000000</td>\n",
       "      <td>0.000000</td>\n",
       "      <td>0.000000</td>\n",
       "      <td>0.000000</td>\n",
       "      <td>0.000000</td>\n",
       "    </tr>\n",
       "    <tr>\n",
       "      <th>75%</th>\n",
       "      <td>9.433654e+13</td>\n",
       "      <td>5.725627e+06</td>\n",
       "      <td>56.000000</td>\n",
       "      <td>0.000000</td>\n",
       "      <td>0.000000</td>\n",
       "      <td>0.000000</td>\n",
       "      <td>0.000000</td>\n",
       "      <td>0.000000</td>\n",
       "      <td>1.000000</td>\n",
       "    </tr>\n",
       "    <tr>\n",
       "      <th>max</th>\n",
       "      <td>9.999816e+14</td>\n",
       "      <td>5.790484e+06</td>\n",
       "      <td>115.000000</td>\n",
       "      <td>1.000000</td>\n",
       "      <td>1.000000</td>\n",
       "      <td>1.000000</td>\n",
       "      <td>1.000000</td>\n",
       "      <td>1.000000</td>\n",
       "      <td>1.000000</td>\n",
       "    </tr>\n",
       "  </tbody>\n",
       "</table>\n",
       "</div>"
      ],
      "text/plain": [
       "         patient_id  appointment_id            age    scholarship  \\\n",
       "count  1.067880e+05    1.067880e+05  106788.000000  106788.000000   \n",
       "mean   1.473131e+14    5.675428e+06      38.299294       0.101051   \n",
       "std    2.558722e+14    7.133632e+04      22.453253       0.301397   \n",
       "min    3.921700e+04    5.030230e+06       1.000000       0.000000   \n",
       "25%    4.175523e+12    5.640484e+06      19.000000       0.000000   \n",
       "50%    3.173700e+13    5.680740e+06      38.000000       0.000000   \n",
       "75%    9.433654e+13    5.725627e+06      56.000000       0.000000   \n",
       "max    9.999816e+14    5.790484e+06     115.000000       1.000000   \n",
       "\n",
       "        hypertension       diabetes     alcoholism       handicap  \\\n",
       "count  106788.000000  106788.000000  106788.000000  106788.000000   \n",
       "mean        0.203356       0.073978       0.031389       0.019113   \n",
       "std         0.402497       0.261737       0.174368       0.136922   \n",
       "min         0.000000       0.000000       0.000000       0.000000   \n",
       "25%         0.000000       0.000000       0.000000       0.000000   \n",
       "50%         0.000000       0.000000       0.000000       0.000000   \n",
       "75%         0.000000       0.000000       0.000000       0.000000   \n",
       "max         1.000000       1.000000       1.000000       1.000000   \n",
       "\n",
       "        sms_received  \n",
       "count  106788.000000  \n",
       "mean        0.323426  \n",
       "std         0.467786  \n",
       "min         0.000000  \n",
       "25%         0.000000  \n",
       "50%         0.000000  \n",
       "75%         1.000000  \n",
       "max         1.000000  "
      ]
     },
     "execution_count": 44,
     "metadata": {},
     "output_type": "execute_result"
    }
   ],
   "source": [
    "# inspect dataframe\n",
    "df.describe()"
   ]
  },
  {
   "cell_type": "code",
   "execution_count": 45,
   "metadata": {},
   "outputs": [
    {
     "data": {
      "text/plain": [
       "patient_id           60162\n",
       "appointment_id      106788\n",
       "gender                   2\n",
       "scheduled_date      100126\n",
       "appointment_date        27\n",
       "age                    102\n",
       "neighbourhood           81\n",
       "scholarship              2\n",
       "hypertension             2\n",
       "diabetes                 2\n",
       "alcoholism               2\n",
       "handicap                 2\n",
       "sms_received             2\n",
       "no_show                  2\n",
       "dtype: int64"
      ]
     },
     "execution_count": 45,
     "metadata": {},
     "output_type": "execute_result"
    }
   ],
   "source": [
    "df.nunique()"
   ]
  },
  {
   "cell_type": "markdown",
   "metadata": {},
   "source": [
    "#### Create and add important columns that are relevant to analysis \n",
    "- Appointment day of the week\n",
    "- Introduce Age group to understand behaviourial patterns from each group \n"
   ]
  },
  {
   "cell_type": "code",
   "execution_count": 46,
   "metadata": {},
   "outputs": [],
   "source": [
    "# Appointment day of the week\n",
    "df['appointment_day'] = df['appointment_date'].dt.day_name()"
   ]
  },
  {
   "cell_type": "code",
   "execution_count": 47,
   "metadata": {},
   "outputs": [
    {
     "data": {
      "text/plain": [
       "array([ 62,  56,   8,  76,  23,  39,  21,  19,  30,  29,  22,  28,  54,\n",
       "        15,  50,  40,  46,   4,  13,  65,  45,  51,  32,  12,  61,  38,\n",
       "        79,  18,  63,  64,  85,  59,  55,  71,  49,  78,  31,  58,  27,\n",
       "         6,   2,  11,   7,   3,   1,  69,  68,  60,  67,  36,  10,  35,\n",
       "        20,  26,  34,  33,  16,  42,   5,  47,  17,  41,  44,  37,  24,\n",
       "        66,  77,  81,  70,  53,  75,  73,  52,  74,  43,  89,  57,  14,\n",
       "         9,  48,  83,  72,  25,  80,  87,  88,  84,  82,  90,  86,  91,\n",
       "        98,  92,  94,  96,  93,  95,  97, 102, 115, 100,  99], dtype=int64)"
      ]
     },
     "execution_count": 47,
     "metadata": {},
     "output_type": "execute_result"
    }
   ],
   "source": [
    "# Age Group\n",
    "df.age.unique()"
   ]
  },
  {
   "cell_type": "code",
   "execution_count": 48,
   "metadata": {},
   "outputs": [],
   "source": [
    "# age group Child (0 - 14), Youth (15 - 24), Adult (25 - 64), Senior (65 and above)\n",
    "df['age_group'] = pd.cut(df.age, bins = [0, 14, 24, 64, 135], labels = ['Child', 'Youth', 'Adult', 'Senior'])"
   ]
  },
  {
   "cell_type": "code",
   "execution_count": 49,
   "metadata": {},
   "outputs": [
    {
     "name": "stdout",
     "output_type": "stream",
     "text": [
      "<class 'pandas.core.frame.DataFrame'>\n",
      "Int64Index: 106788 entries, 0 to 110526\n",
      "Data columns (total 16 columns):\n",
      " #   Column            Non-Null Count   Dtype         \n",
      "---  ------            --------------   -----         \n",
      " 0   patient_id        106788 non-null  int64         \n",
      " 1   appointment_id    106788 non-null  int64         \n",
      " 2   gender            106788 non-null  object        \n",
      " 3   scheduled_date    106788 non-null  datetime64[ns]\n",
      " 4   appointment_date  106788 non-null  datetime64[ns]\n",
      " 5   age               106788 non-null  int64         \n",
      " 6   neighbourhood     106788 non-null  object        \n",
      " 7   scholarship       106788 non-null  int64         \n",
      " 8   hypertension      106788 non-null  int64         \n",
      " 9   diabetes          106788 non-null  int64         \n",
      " 10  alcoholism        106788 non-null  int64         \n",
      " 11  handicap          106788 non-null  int64         \n",
      " 12  sms_received      106788 non-null  int64         \n",
      " 13  no_show           106788 non-null  object        \n",
      " 14  appointment_day   106788 non-null  object        \n",
      " 15  age_group         106788 non-null  category      \n",
      "dtypes: category(1), datetime64[ns](2), int64(9), object(4)\n",
      "memory usage: 13.1+ MB\n"
     ]
    }
   ],
   "source": [
    "df.info()"
   ]
  },
  {
   "cell_type": "markdown",
   "metadata": {},
   "source": [
    "<a id='eda'></a>\n",
    "## Exploratory Data Analysis\n",
    "\n"
   ]
  },
  {
   "cell_type": "code",
   "execution_count": 50,
   "metadata": {},
   "outputs": [
    {
     "data": {
      "image/png": "[encoded data removed]",
      "text/plain": [
       "<Figure size 1080x1080 with 12 Axes>"
      ]
     },
     "metadata": {
      "needs_background": "light"
     },
     "output_type": "display_data"
    }
   ],
   "source": [
    "# lokking at the data visually and how they are distributed\n",
    "df.hist(figsize=(15,15));"
   ]
  },
  {
   "cell_type": "markdown",
   "metadata": {},
   "source": [
    "#### Histogram Observation\n",
    "- **Scholarship:** They are more medical patient without scholarship in the dataset\n",
    "- **Age:** There ages of patient are evenly distributed until its reaches 70 years and above then it droppes\n",
    "- **alcoholism:** They are less alcoholic patients in the dataset \n",
    "- **handicap:** They are less handicapped patients in the dataset \n",
    "- **diabetes:** They are less diabetic patients in the dataset \n",
    "- **hypertension:** They are less hypertension patients in the dataset \n",
    "- **sms_recieved:** They were more patients that were not sent sms than those sent "
   ]
  },
  {
   "cell_type": "markdown",
   "metadata": {},
   "source": [
    "#### Gender"
   ]
  },
  {
   "cell_type": "code",
   "execution_count": 51,
   "metadata": {},
   "outputs": [
    {
     "data": {
      "image/png": "[encoded data removed]",
      "text/plain": [
       "<Figure size 432x288 with 1 Axes>"
      ]
     },
     "metadata": {
      "needs_background": "light"
     },
     "output_type": "display_data"
    }
   ],
   "source": [
    "# Lets see the compare the number of male patients to female patient\n",
    "df['gender'].value_counts().plot(kind = 'bar');\n",
    "plt.title('Male vs Female')\n",
    "plt.xlabel('Gender')\n",
    "plt.show()"
   ]
  },
  {
   "cell_type": "markdown",
   "metadata": {},
   "source": [
    "> They are more female gender in this dataset"
   ]
  },
  {
   "cell_type": "markdown",
   "metadata": {},
   "source": [
    "#### Appointment_days"
   ]
  },
  {
   "cell_type": "code",
   "execution_count": 52,
   "metadata": {},
   "outputs": [
    {
     "data": {
      "image/png": "[encoded data removed]",
      "text/plain": [
       "<Figure size 432x288 with 1 Axes>"
      ]
     },
     "metadata": {
      "needs_background": "light"
     },
     "output_type": "display_data"
    }
   ],
   "source": [
    "# lets see the distribution of the days in the dataset\n",
    "df['appointment_day'].value_counts().plot(kind = 'bar');\n",
    "plt.title('Days of the week')\n",
    "plt.xlabel('Days')\n",
    "plt.show()"
   ]
  },
  {
   "cell_type": "markdown",
   "metadata": {},
   "source": [
    "> It looks like Not much appointments are set for weekends but weekdays"
   ]
  },
  {
   "cell_type": "code",
   "execution_count": 53,
   "metadata": {},
   "outputs": [
    {
     "data": {
      "text/plain": [
       "Text(0.5, 1.0, 'No_show vs Show')"
      ]
     },
     "execution_count": 53,
     "metadata": {},
     "output_type": "execute_result"
    },
    {
     "data": {
      "image/png": "[encoded data removed]",
      "text/plain": [
       "<Figure size 432x288 with 1 Axes>"
      ]
     },
     "metadata": {},
     "output_type": "display_data"
    }
   ],
   "source": [
    "# Lets see the compare the number of patients that attended to those that missed their appointment\n",
    "df['no_show'].value_counts().plot(kind = 'pie');\n",
    "plt.title('No_show vs Show', fontsize = 10)"
   ]
  },
  {
   "cell_type": "markdown",
   "metadata": {},
   "source": [
    "> More patient did not show compared to the number of patients that showed"
   ]
  },
  {
   "cell_type": "markdown",
   "metadata": {},
   "source": [
    "#### age group"
   ]
  },
  {
   "cell_type": "code",
   "execution_count": 54,
   "metadata": {},
   "outputs": [
    {
     "data": {
      "image/png": "[encoded data removed]",
      "text/plain": [
       "<Figure size 432x288 with 1 Axes>"
      ]
     },
     "metadata": {
      "needs_background": "light"
     },
     "output_type": "display_data"
    }
   ],
   "source": [
    "df['age_group'].value_counts().plot(kind = 'bar');\n",
    "plt.title('age_group')\n",
    "plt.xlabel('Age')\n",
    "plt.show()"
   ]
  },
  {
   "cell_type": "markdown",
   "metadata": {},
   "source": [
    "> They are more adults in this dataset than any other age group"
   ]
  },
  {
   "cell_type": "markdown",
   "metadata": {},
   "source": [
    "### What are the behaviorial patterns of patient of the same age group as regards showing for appointments?"
   ]
  },
  {
   "cell_type": "code",
   "execution_count": 55,
   "metadata": {},
   "outputs": [
    {
     "data": {
      "image/png": "[encoded data removed]",
      "text/plain": [
       "<Figure size 432x288 with 1 Axes>"
      ]
     },
     "metadata": {
      "needs_background": "light"
     },
     "output_type": "display_data"
    },
    {
     "name": "stdout",
     "output_type": "stream",
     "text": [
      "Out of 19694 appointments made with childs, 15412 were missed with the ratio of 78%.\n",
      "Out of 13982 appointments made by Youth, 10444 were missed with the ratio of 75%.\n",
      "Out of 58769 appointments made by Adult, 47165 were missed with the ratio of 80%.\n",
      "Out of 14343 appointments made by Senior, 12128 were missed with the ratio of 85%.\n"
     ]
    }
   ],
   "source": [
    "# split by age group \n",
    "ax = sns.countplot(x=df.age_group, hue=df.no_show, data=df)\n",
    "ax.set_title(\"Showing up pattern according to Age group\")\n",
    "x_ticks_labels=['Yes', 'No']\n",
    "plt.show();\n",
    "\n",
    "a_c = len(df.loc[df['age_group'] == \"Child\"]) #appointment for Child\n",
    "a_y = len(df.loc[df['age_group'] == \"Youth\"]) #appointment for Youth\n",
    "a_a = len(df.loc[df['age_group'] == \"Adult\"]) #appointment for Adult\n",
    "a_s = len(df.loc[df['age_group'] == \"Senior\"]) #appointment for Senior\n",
    "\n",
    "ma_c = len(df.query('no_show == \"No\" and age_group == \"Child\"'))  # Child patient that had appointments and showed up\n",
    "ma_y = len(df.query('no_show == \"No\" and age_group == \"Youth\"'))  # Youth patient that had appointments and showed up\n",
    "ma_a = len(df.query('no_show == \"No\" and age_group == \"Adult\"'))  # Adult patient that had appointments and showed up\n",
    "ma_s = len(df.query('no_show == \"No\" and age_group == \"Senior\"'))  # Senior patient that had appointments and showed up\n",
    "\n",
    "\n",
    "ma_ratio_c = int(round(ma_c/a_c*100))\n",
    "ma_ratio_y = int(round(ma_y/a_y*100))\n",
    "ma_ratio_a = int(round(ma_a/a_a*100))\n",
    "ma_ratio_s = int(round(ma_s/a_s*100))\n",
    "\n",
    "print('Out of {} appointments made with childs, {} were missed with the ratio of {}%.'.format(a_c, ma_c, ma_ratio_c))\n",
    "print('Out of {} appointments made by Youth, {} were missed with the ratio of {}%.'.format(a_y, ma_y, ma_ratio_y))\n",
    "print('Out of {} appointments made by Adult, {} were missed with the ratio of {}%.'.format(a_a, ma_a, ma_ratio_a))\n",
    "print('Out of {} appointments made by Senior, {} were missed with the ratio of {}%.'.format(a_s, ma_s, ma_ratio_s))"
   ]
  },
  {
   "cell_type": "markdown",
   "metadata": {},
   "source": [
    "### How do patient attend appointments according to the days of the week?"
   ]
  },
  {
   "cell_type": "code",
   "execution_count": 56,
   "metadata": {},
   "outputs": [
    {
     "data": {
      "text/plain": [
       "Wednesday    25047\n",
       "Tuesday      24775\n",
       "Monday       21867\n",
       "Friday       18431\n",
       "Thursday     16629\n",
       "Saturday        39\n",
       "Name: appointment_day, dtype: int64"
      ]
     },
     "execution_count": 56,
     "metadata": {},
     "output_type": "execute_result"
    }
   ],
   "source": [
    "df.appointment_day.value_counts()"
   ]
  },
  {
   "cell_type": "code",
   "execution_count": 57,
   "metadata": {},
   "outputs": [
    {
     "data": {
      "image/png": "[encoded data removed]",
      "text/plain": [
       "<Figure size 432x288 with 1 Axes>"
      ]
     },
     "metadata": {
      "needs_background": "light"
     },
     "output_type": "display_data"
    },
    {
     "name": "stdout",
     "output_type": "stream",
     "text": [
      "Out of 21867 appointments made on Monday, 17361 were missed with the ratio of 79%.\n",
      "Out of 24775 appointments made on Tuesday, 19767 were missed with the ratio of 80%.\n",
      "Out of 25047 appointments made on Wednesday, 20108 were missed with the ratio of 80%.\n",
      "Out of 16629 appointments made on Thursday, 13388 were missed with the ratio of 81%.\n",
      "Out of 18431 appointments made on Friday, 14495 were missed with the ratio of 79%.\n"
     ]
    }
   ],
   "source": [
    "# split by day of the week  \n",
    "ax = sns.countplot(x= df.appointment_day, hue=df.no_show, data=df)\n",
    "ax.set_title(\"Showing up pattern according to days of the week\")\n",
    "x_ticks_labels=['Yes', 'No']\n",
    "plt.show();\n",
    "\n",
    "a_m = len(df.loc[df['appointment_day'] == \"Monday\"]) #appointment for Monday\n",
    "a_t = len(df.loc[df['appointment_day'] == \"Tuesday\"]) #appointment for Tuesday\n",
    "a_w = len(df.loc[df['appointment_day'] == \"Wednesday\"]) #appointment for Wednesday\n",
    "a_th = len(df.loc[df['appointment_day'] == \"Thursday\"]) #appointment for Thursday\n",
    "a_f = len(df.loc[df['appointment_day'] == \"Friday\"]) #appointment for Friday\n",
    "\n",
    "ma_m = len(df.query('no_show == \"No\" and appointment_day == \"Monday\"'))  # Patient that had appointments and showed up on Monday\n",
    "ma_t = len(df.query('no_show == \"No\" and appointment_day == \"Tuesday\"'))  # Patient that had appointments and showed up on Tuesday\n",
    "ma_w = len(df.query('no_show == \"No\" and appointment_day == \"Wednesday\"'))  # Patient that had appointments and showed up on Wednesday\n",
    "ma_th = len(df.query('no_show == \"No\" and appointment_day == \"Thursday\"'))  # Patient that had appointments and showed up on Thursday\n",
    "ma_f= len(df.query('no_show == \"No\" and appointment_day == \"Friday\"'))  # Patient that had appointments and showed up on Friday\n",
    "\n",
    "\n",
    "ma_ratio_m = int(round(ma_m/a_m*100))\n",
    "ma_ratio_t = int(round(ma_t/a_t*100))\n",
    "ma_ratio_w = int(round(ma_w/a_w*100))\n",
    "ma_ratio_th = int(round(ma_th/a_th*100))\n",
    "ma_ratio_f = int(round(ma_f/a_f*100))\n",
    "\n",
    "print('Out of {} appointments made on Monday, {} were missed with the ratio of {}%.'.format(a_m, ma_m, ma_ratio_m))\n",
    "print('Out of {} appointments made on Tuesday, {} were missed with the ratio of {}%.'.format(a_t, ma_t, ma_ratio_t))\n",
    "print('Out of {} appointments made on Wednesday, {} were missed with the ratio of {}%.'.format(a_w, ma_w, ma_ratio_w))\n",
    "print('Out of {} appointments made on Thursday, {} were missed with the ratio of {}%.'.format(a_th, ma_th, ma_ratio_th))\n",
    "print('Out of {} appointments made on Friday, {} were missed with the ratio of {}%.'.format(a_f, ma_f, ma_ratio_f))"
   ]
  },
  {
   "cell_type": "markdown",
   "metadata": {},
   "source": [
    "> From the bar chart it is evident that appointment days in the week do not have any distinct effect on the show/no show column"
   ]
  },
  {
   "cell_type": "markdown",
   "metadata": {},
   "source": [
    "### Does having a scholarship affect whether a patient shows for his appointments or not"
   ]
  },
  {
   "cell_type": "code",
   "execution_count": 58,
   "metadata": {},
   "outputs": [
    {
     "data": {
      "image/png": "[encoded data removed]",
      "text/plain": [
       "<Figure size 432x288 with 1 Axes>"
      ]
     },
     "metadata": {
      "needs_background": "light"
     },
     "output_type": "display_data"
    },
    {
     "name": "stdout",
     "output_type": "stream",
     "text": [
      "Out of 95997 appointments made by patients with scholarship, 76928 were missed with the ratio of 80%.\n",
      "Out of 10791 appointments made by patients without scholarship, 8221 were missed with the ratio of 76%.\n"
     ]
    }
   ],
   "source": [
    "ax = sns.countplot(x=df.scholarship, hue=df.no_show, data=df)\n",
    "ax.set_title(\"Show / No-Show for patients with/without scholarship\")\n",
    "x_ticks_labels=['Yes', 'No']\n",
    "plt.show();\n",
    "\n",
    "a_f = len(df.loc[df['scholarship'] == 0]) #appointment for patient without scholarship\n",
    "a_m = len(df.loc[df['scholarship'] == 1]) #appointment for patient with scholarship\n",
    "\n",
    "ma_f = len(df.query('no_show == \"No\" and scholarship == 0'))  # patient without scholarship that had appointments and showed up\n",
    "ma_m = len(df.loc[(df['scholarship'] == 1) & (df['no_show'] == \"No\")]) # patient with scholarship that had appointments and showed up\n",
    "\n",
    "ma_ratio_f = int(round(ma_f/a_f*100))\n",
    "ma_ratio_m = int(round(ma_m/a_m*100))\n",
    "\n",
    "print('Out of {} appointments made by patients with scholarship, {} were missed with the ratio of {}%.'.format(a_f, ma_f, ma_ratio_f))\n",
    "print('Out of {} appointments made by patients without scholarship, {} were missed with the ratio of {}%.'.format(a_m, ma_m, ma_ratio_m))"
   ]
  },
  {
   "cell_type": "markdown",
   "metadata": {},
   "source": [
    "> From the bar chart we can see that recieving sms by patients did not have in effect in the pateints showing up or not showing up  "
   ]
  },
  {
   "cell_type": "markdown",
   "metadata": {},
   "source": [
    "### Does having a Diabetes affect whether a patient shows up for his/her appointments or not?"
   ]
  },
  {
   "cell_type": "code",
   "execution_count": 59,
   "metadata": {},
   "outputs": [
    {
     "data": {
      "image/png": "[encoded data removed]",
      "text/plain": [
       "<Figure size 432x288 with 1 Axes>"
      ]
     },
     "metadata": {
      "needs_background": "light"
     },
     "output_type": "display_data"
    },
    {
     "name": "stdout",
     "output_type": "stream",
     "text": [
      "Out of 98888 appointments made by patients with diabetes, 78671 were missed with the ratio of 80%.\n",
      "Out of 7900 appointments made by patients without diabetes, 6478 were missed with the ratio of 82%.\n"
     ]
    }
   ],
   "source": [
    "# Continue to explore the data to address your additional research\n",
    "#   questions. Add more headers as needed if you have more questions to\n",
    "#   investigate.\n",
    "ax = sns.countplot(x=df.diabetes, hue=df.no_show, data=df)\n",
    "ax.set_title(\"Show / No-Show for patients with/without having diabetes\")\n",
    "x_ticks_labels=['Yes', 'No']\n",
    "plt.show();\n",
    "\n",
    "a_f = len(df.loc[df['diabetes'] == 0]) #appointment for patient without diabetes\n",
    "a_m = len(df.loc[df['diabetes'] == 1]) #appointment for patient with diabetes\n",
    "\n",
    "ma_f = len(df.query('no_show == \"No\" and diabetes == 0'))  # patient without diabetes that had appointments and showed up\n",
    "ma_m = len(df.loc[(df['diabetes'] == 1) & (df['no_show'] == \"No\")]) # patient with diabetes that had appointments and showed up\n",
    "\n",
    "ma_ratio_f = int(round(ma_f/a_f*100))\n",
    "ma_ratio_m = int(round(ma_m/a_m*100))\n",
    "\n",
    "print('Out of {} appointments made by patients with diabetes, {} were missed with the ratio of {}%.'.format(a_f, ma_f, ma_ratio_f))\n",
    "print('Out of {} appointments made by patients without diabetes, {} were missed with the ratio of {}%.'.format(a_m, ma_m, ma_ratio_m))"
   ]
  },
  {
   "cell_type": "markdown",
   "metadata": {},
   "source": [
    "> From the bar chart we can see that having diabetes did not affect the whether a patient shows up or not "
   ]
  },
  {
   "cell_type": "markdown",
   "metadata": {},
   "source": [
    "### Does having gender affect whether a patient shows up for his appointments or not"
   ]
  },
  {
   "cell_type": "code",
   "execution_count": 60,
   "metadata": {},
   "outputs": [
    {
     "data": {
      "image/png": "[encoded data removed]",
      "text/plain": [
       "<Figure size 432x288 with 1 Axes>"
      ]
     },
     "metadata": {
      "needs_background": "light"
     },
     "output_type": "display_data"
    },
    {
     "name": "stdout",
     "output_type": "stream",
     "text": [
      "Out of 70009 appointments made by females, 55760 were missed with the ratio of 80%.\n",
      "Out of 36779 appointments made by males, 29389 were missed with the ratio of 80%.\n"
     ]
    }
   ],
   "source": [
    "# plotting gender and show up appointment\n",
    "a_f = len(df.loc[df['gender'] == \"F\"]) #appointment for female\n",
    "a_m = len(df.loc[df['gender'] == \"M\"]) #appointment for male\n",
    "\n",
    "ma_f = len(df.query('no_show == \"No\" and gender == \"F\"'))  # female patient that had appointments and showed up\n",
    "ma_m = len(df.loc[(df['gender'] == \"M\") & (df['no_show'] == \"No\")]) # male patient that had appointments and showed up\n",
    "\n",
    "ma_ratio_f = int(round(ma_f/a_f*100))\n",
    "ma_ratio_m = int(round(ma_m/a_m*100))\n",
    "\n",
    "\n",
    "ax = sns.countplot(x=df.gender, hue=df.no_show, data=df)\n",
    "ax.set_title(\"Show / No-Show for patients with/without having gender\")\n",
    "x_ticks_labels=['Yes', 'No']\n",
    "plt.show();\n",
    "\n",
    "print('Out of {} appointments made by females, {} were missed with the ratio of {}%.'.format(a_f, ma_f, ma_ratio_f))\n",
    "print('Out of {} appointments made by males, {} were missed with the ratio of {}%.'.format(a_m, ma_m, ma_ratio_m))"
   ]
  },
  {
   "cell_type": "markdown",
   "metadata": {},
   "source": [
    "> Gender had no effect on the pateints showing up"
   ]
  },
  {
   "cell_type": "markdown",
   "metadata": {},
   "source": [
    "\n",
    "\n",
    "<a id='conclusions'></a>\n",
    "## Conclusions\n",
    "\n",
    "**Result**\n",
    "- The distribution of appointments during the weekdays (Monday-Friday) is nearly equal, with Thursday and Friday seeing somewhat fewer visitors. On Saturday, there are 39 visits and none on Sunday.\n",
    "- There are many adult (age group) in the dataset but in general the patients age is distributed almost evenly among other age groups\n",
    "-  For all categorical variables the distributions of show / no-show for different categories look very similar. There is no clear indication of any of these variables having bigger then others impact on show / no-show characteristics. The charts confirm about 80% no-show rate for most categories.\n",
    "- Out of 70009 appointments made by females, 55760 were missed with the ratio of 80% and Out of 36779 appointments made by males, 29389 were missed with the ratio of 80%.\n",
    "- Out of 21867 appointments made on Monday, 17361 were missed with the ratio of 79%, Out of 24775 appointments made on Tuesday, 19767 were missed with the ratio of 80%, Out of 25047 appointments made on Wednesday, 20108 were missed with the ratio of 80%, Out of 16629 appointments made on Thursday, 13388 were missed with the ratio of 81%, Out of 18431 appointments made on Friday, 14495 were missed with the ratio of 79%.\n",
    "- They are more female gender in this dataset\n",
    "- They are more medical patient without scholarship in the dataset\n",
    "- There ages of patient are evenly distributed until its reaches 70 years and above then it droppes\n",
    "- They are less alcoholic patients in the dataset \n",
    "- They are less handicapped patients in the dataset \n",
    "- They are less diabetic patients in the dataset \n",
    "- They are less hypertension patients in the dataset \n",
    "- They were more patients that were not sent sms than those sent \n",
    "\n",
    "**Limitation**\n",
    "\n",
    "- Before cleaning columns naming conventions are not uniformed\n",
    "- The ScheduledDay and AppointmentDay both have the wrong datatype (strings) instead of datetime\n",
    "- PatientId should be an integer datatype and not a float \n",
    "- On Inspection, It was discovered that the column Age had negative values which is an outliers \n",
    "- Handcap columns were seen to have values that were not 0 and 1 which is also an outliers\n",
    "- Had to aggregate data to get more useful insights (created new columns - Age group and day of the week)\n",
    "\n"
   ]
  }
 ],
 "metadata": {
  "kernelspec": {
   "display_name": "Python 3",
   "language": "python",
   "name": "python3"
  },
  "language_info": {
   "codemirror_mode": {
    "name": "ipython",
    "version": 3
   },
   "file_extension": ".py",
   "mimetype": "text/x-python",
   "name": "python",
   "nbconvert_exporter": "python",
   "pygments_lexer": "ipython3",
   "version": "3.8.8"
  }
 },
 "nbformat": 4,
 "nbformat_minor": 2
}
